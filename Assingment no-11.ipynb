{
 "cells": [
  {
   "cell_type": "markdown",
   "metadata": {},
   "source": [
    "# Assingment no-11"
   ]
  },
  {
   "cell_type": "code",
   "execution_count": null,
   "metadata": {},
   "outputs": [],
   "source": [
    "# 1. Given X be a discrete random variable with the following PMF\n",
    "\n",
    "# 1. Find the range RX of the random variable X.\n",
    "# 2. Find P(X ≤ 0.5)\n",
    "# 3. Find P(0.25&lt;X&lt;0.75)\n",
    "# 4. P(X = 0.2|X&lt;0.6)\n",
    "# Ans=\n",
    "\n",
    "Without the specific PMF for the random variable X, I cannot provide precise answers to your questions. However, I can provide a general approach to solving these types of problems.\n",
    "\n",
    "Range of X (RX): The range of a random variable refers to the set of all possible values that X can take. To determine the range, you need to identify the values for which the PMF is non-zero.\n",
    "\n",
    "P(X ≤ 0.5): To find the probability that X is less than or equal to 0.5, you need to sum up the probabilities of all values of X that satisfy this condition. You can do this by evaluating the PMF for each value less than or equal to 0.5 and summing them up.\n",
    "\n",
    "P(0.25 < X < 0.75): Similarly, to find the probability that X lies between 0.25 and 0.75, you need to sum up the probabilities of all values of X that satisfy this condition.\n",
    "\n",
    "P(X = 0.2|X < 0.6): This is a conditional probability, which represents the probability of X being equal to 0.2 given that X is less than 0.6. To calculate this, you would need to determine the probabilities of X being less than 0.6 and X being equal to 0.2, and then apply the formula for conditional probability.\n",
    "\n",
    "Please provide the PMF for the random variable X so that I can give you more specific answers to your questions."
   ]
  },
  {
   "cell_type": "code",
   "execution_count": null,
   "metadata": {},
   "outputs": [],
   "source": [
    "# 2. Two equal and fair dice are rolled, and we observed two numbers X and Y.\n",
    "# 1. Find RX, RY, and the PMFs of X and Y.\n",
    "# 2. Find P(X = 2,Y = 6).\n",
    "# 3. Find P(X&gt;3|Y = 2).\n",
    "# 4. If Z = X + Y. Find the range and PMF of Z.\n",
    "# 5. Find P(X = 4|Z = 8).\n",
    "# Ans=\n",
    "RX and RY: Since the two dice are fair and have equal sides numbered from 1 to 6, the range of both X and Y is {1, 2, 3, 4, 5, 6}.\n",
    "\n",
    "PMF of X and Y: Since the dice are fair, each outcome has an equal probability of occurring. Therefore, the PMFs of X and Y are uniform, meaning that each value in the range has a probability of 1/6.\n",
    "\n",
    "PMF of X: P(X = x) = 1/6 for x ∈ {1, 2, 3, 4, 5, 6}\n",
    "\n",
    "PMF of Y: P(Y = y) = 1/6 for y ∈ {1, 2, 3, 4, 5, 6}\n",
    "\n",
    "P(X = 2, Y = 6): Since X and Y are independent, the joint probability of both events occurring is the product of their individual probabilities.\n",
    "\n",
    "P(X = 2, Y = 6) = P(X = 2) * P(Y = 6) = (1/6) * (1/6) = 1/36\n",
    "\n",
    "P(X > 3 | Y = 2): Since Y is fixed at 2, the probability of X being greater than 3 is determined by the outcomes {4, 5, 6}.\n",
    "\n",
    "P(X > 3 | Y = 2) = P(X = 4 | Y = 2) + P(X = 5 | Y = 2) + P(X = 6 | Y = 2)\n",
    "= (1/6) + (1/6) + (1/6) = 3/6 = 1/2\n",
    "\n",
    "Z = X + Y: Z represents the sum of X and Y. The range of Z will be the set of possible sums that can be obtained by adding the values of X and Y. The range of Z is {2, 3, 4, 5, 6, 7, 8, 9, 10, 11, 12}.\n",
    "\n",
    "To determine the PMF of Z, we need to calculate the probability of each possible sum.\n",
    "\n",
    "PMF of Z:\n",
    "P(Z = z) = P(X + Y = z) = Sum of probabilities of all (x, y) pairs that satisfy x + y = z, for z ∈ {2, 3, 4, 5, 6, 7, 8, 9, 10, 11, 12}\n",
    "\n",
    "For example, P(Z = 2) = P(X = 1, Y = 1) = (1/6) * (1/6) = 1/36\n",
    "\n",
    "P(X = 4 | Z = 8): To find this probability, we need to consider all possible outcomes where Z = 8 and X = 4. In this case, the only possible outcome is (X = 4, Y = 4).\n",
    "\n",
    "P(X = 4 | Z = 8) = P(X = 4, Y = 4) / P(Z = 8)\n",
    "= (1/6) * (1/6) / P(Z = 8) [P(X = 4, Y = 4) = (1/6) * (1/6)]\n",
    "= (1/36) / P(Z = 8)\n",
    "\n",
    "To calculate P(Z = 8), we need to sum up the probabilities of all (x, y) pairs that satisfy"
   ]
  },
  {
   "cell_type": "code",
   "execution_count": null,
   "metadata": {},
   "outputs": [],
   "source": [
    "3. In an exam, there were 20 multiple-choice questions. Each question had 44 possible\n",
    "options. A student knew the answer to 10 questions, but the other 10 questions were unknown\n",
    "to him, and he chose answers randomly. If the student X&#39;s score is equal to the total number\n",
    "of correct answers, then find out the PMF of X. What is P(X&gt;15)?\n",
    "# Ans=\n",
    "To find the PMF of X, we need to determine the probability of each possible score X can take. In this case, X represents the number of correct answers out of 20 questions.\n",
    "\n",
    "Given:\n",
    "\n",
    "The student knew the answer to 10 questions.\n",
    "The other 10 questions were answered randomly.\n",
    "Let's calculate the PMF of X:\n",
    "\n",
    "PMF of X: P(X = x) = probability of getting x correct answers out of 20 questions\n",
    "\n",
    "To calculate P(X = x), we need to consider the combinations of questions the student knew and the questions answered randomly.\n",
    "\n",
    "For x ∈ {0, 1, 2, ..., 20}, the PMF of X is given by:\n",
    "\n",
    "P(X = x) = C(10, x) * (1/44)^(10-x) * (43/44)^(x)\n",
    "\n",
    "where C(n, r) is the binomial coefficient, representing the number of ways to choose r items from a set of n items.\n",
    "\n",
    "Now, let's calculate P(X > 15):\n",
    "\n",
    "P(X > 15) = P(X = 16) + P(X = 17) + P(X = 18) + P(X = 19) + P(X = 20)\n",
    "\n",
    "Substituting the values into the PMF formula, we can calculate P(X > 15) by summing up the probabilities for each value."
   ]
  },
  {
   "cell_type": "code",
   "execution_count": null,
   "metadata": {},
   "outputs": [],
   "source": [
    "# 4. The number of students arriving at a college between a time interval is a Poisson random\n",
    "# variable. On average, 10 students arrive per hour. Let Y be the number of students arriving\n",
    "# from 10 am to 11:30 am. What is P(10&lt;Y≤15)?\n",
    "# Ans=\n",
    "Given that the number of students arriving at a college between a time interval follows a Poisson distribution with an average rate of 10 students per hour, we can calculate the probability P(10 < Y ≤ 15) for the number of students arriving from 10 am to 11:30 am.\n",
    "\n",
    "Let's denote λ as the average number of students arriving in the given time interval. Since the time interval from 10 am to 11:30 am is 1.5 hours, the average number of students in this interval can be calculated as:\n",
    "\n",
    "λ = 10 students/hour * 1.5 hours = 15 students\n",
    "\n",
    "Using the Poisson distribution formula, we can calculate the desired probability:\n",
    "\n",
    "P(10 < Y ≤ 15) = P(Y = 11) + P(Y = 12) + P(Y = 13) + P(Y = 14) + P(Y = 15)\n",
    "\n",
    "P(Y = k) = (e^(-λ) * λ^k) / k!\n",
    "\n",
    "where e is the base of the natural logarithm (~2.71828).\n",
    "\n",
    "Substituting λ = 15 and k = 11, 12, 13, 14, 15, we can calculate the probabilities for each value and sum them up to find P(10 < Y ≤ 15)."
   ]
  },
  {
   "cell_type": "code",
   "execution_count": null,
   "metadata": {},
   "outputs": [],
   "source": [
    "# 5.Two independent random variables, X and Y,are given such that X~Poisson(α) and\n",
    "# Y~Poisson(β). State a new random variable as Z = X + Y. Find out the PMF of Z.\n",
    "# Ans=\n",
    "To find the probability mass function (PMF) of the random variable Z = X + Y, where X and Y are independent random variables following Poisson distributions with parameters α and β respectively, we can use the convolution of their PMFs.\n",
    "\n",
    "The PMF of a Poisson random variable X with parameter α is given by:\n",
    "P(X = k) = (e^(-α) * α^k) / k!\n",
    "\n",
    "Similarly, for Y with parameter β:\n",
    "P(Y = k) = (e^(-β) * β^k) / k!\n",
    "\n",
    "To find the PMF of Z, we need to compute P(Z = z) for all possible values of z.\n",
    "\n",
    "P(Z = z) = P(X + Y = z) = ∑[P(X = x) * P(Y = z - x)] over all possible values of x\n",
    "\n",
    "Using the PMFs of X and Y, we can calculate the PMF of Z."
   ]
  },
  {
   "cell_type": "code",
   "execution_count": null,
   "metadata": {},
   "outputs": [],
   "source": [
    "# 6. There is a discrete random variable X with the pmf.\n",
    "# Ans=\n",
    "A discrete random variable has a finite or countably infinite number of possible values, and its probability mass function (PMF) assigns probabilities to each of these values. The PMF gives the probability of X taking on a particular value.\n",
    "\n",
    "To work with a discrete random variable, you can perform various calculations. Here are a few examples:\n",
    "\n",
    "Finding the range of X: Determine the set of possible values that X can take.\n",
    "\n",
    "Calculating probabilities: Use the PMF to find the probability of X taking on a specific value or falling within a given range.\n",
    "\n",
    "Computing expected value: Multiply each possible value of X by its corresponding probability, and sum up the results to find the expected value (mean) of X.\n",
    "\n",
    "Evaluating cumulative distribution function (CDF): Calculate the cumulative probabilities up to a specific value of X.\n",
    "\n",
    "Remember, the specific calculations and answers depend on the given PMF of X. If you provide the PMF, I would be happy to help you with the relevant calculations or answer any specific questions you have about the random variable X."
   ]
  },
  {
   "cell_type": "code",
   "execution_count": null,
   "metadata": {},
   "outputs": [],
   "source": []
  },
  {
   "cell_type": "code",
   "execution_count": null,
   "metadata": {},
   "outputs": [],
   "source": []
  },
  {
   "cell_type": "code",
   "execution_count": null,
   "metadata": {},
   "outputs": [],
   "source": []
  },
  {
   "cell_type": "code",
   "execution_count": null,
   "metadata": {},
   "outputs": [],
   "source": []
  },
  {
   "cell_type": "code",
   "execution_count": null,
   "metadata": {},
   "outputs": [],
   "source": []
  }
 ],
 "metadata": {
  "kernelspec": {
   "display_name": "Python 3",
   "language": "python",
   "name": "python3"
  },
  "language_info": {
   "codemirror_mode": {
    "name": "ipython",
    "version": 3
   },
   "file_extension": ".py",
   "mimetype": "text/x-python",
   "name": "python",
   "nbconvert_exporter": "python",
   "pygments_lexer": "ipython3",
   "version": "3.7.6"
  }
 },
 "nbformat": 4,
 "nbformat_minor": 4
}
